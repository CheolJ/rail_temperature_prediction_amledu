{
 "cells": [
  {
   "cell_type": "markdown",
   "source": [
    "# **1. Handout Part3**\n",
    "## **1.1. Introduction**\n",
    "> 지난 Chapter에서는 간단한 Machine-learning Method를 활용하여 실제로 레일 온도를 예측하는 모델을 생성해 봤지만 성능이 좋지 못했습니다.\n",
    "><br><br> 이번 시간에는 Tree 기반의 모델을 사용하여 레일의 온도를 예측해 보고 Model의 성능을 높이기 위한 방법들을 공부해 봅시다.\n",
    "\n",
    "***\n",
    "<br>\n",
    "\n",
    "## **1.2. Objective**\n",
    "> 본 과제의 목적은 다음과 같습니다. <br>\n",
    "> 1. Random Forest 모델 생성\n",
    "> 2. 데이터 전처리를 통한 모델 성능 향상\n",
    "> 3. 새로운 Feature 생성을 통한 모델 성능 향상\n",
    "<br>\n",
    "***\n",
    "<br>"
   ],
   "metadata": {
    "collapsed": false
   }
  },
  {
   "cell_type": "markdown",
   "source": [
    "# **2. EXERCISE**\n",
    "## **2.1. Loading Library**\n",
    "> 이번시간에도 똑같이 library를 로딩합니다.<br>\n",
    "> 필요한 library들은 pandas, matplolib, sklearn의 svm, randomforest 입니다.<br>\n",
    "> svm 과 RandomForest는 회귀를 사용합니다.<br>\n",
    ">문제 : **이전 시간의 답과 Kaggle과 google의 힘을 빌려 라이브러리를 import 해보세요(svm, randomforest)**"
   ],
   "metadata": {
    "collapsed": false
   }
  },
  {
   "cell_type": "code",
   "execution_count": null,
   "outputs": [],
   "source": [
    "import pandas as pd\n",
    "import matplotlib.pyplot as plt"
   ],
   "metadata": {
    "collapsed": false,
    "pycharm": {
     "name": "#%%\n"
    }
   }
  },
  {
   "cell_type": "markdown",
   "source": [
    "## **2.2. Loading Data File**\n",
    "> library들을 불러왔으면, 파일을 입력해보자!<br>\n",
    "> 이번에도 북쪽 데이터만을 사용할겁니다!<br><br>\n",
    "> 데이터를 불러오는 것은 항상 해야하는 일이기 때문에 다시 한 번 복습해봅시다<br>\n",
    "\n",
    "> **북쪽 레일의 온도를 대표하는 지점은 I-7 지점입니다.(이전 과제의 레일 데이터를 참고하세요)**<br>\n",
    ">\n",
    ">**본 예측 모델은 I-7의 온도를 기후데이터만으로 예측하는 것을 목표로 합니다.**<br><br>\n",
    "> 머신러닝 모델을 만들기 위해서는 feature와 target으로 데이터를 나누어야 합니다.<br>\n",
    "> 이를 위해서 다음 문제를 해결해 봅시다.<br>\n",
    "> 문제 : 데이터를 로드하고 feature와 target으로 데이터를 나누자<br>\n",
    ">   - rd에 전체 데이터를 읽어오자\n",
    ">   - loc또는 iloc을 활용하여, x에는 기후데이터를, y에는 target인 i-7값을 입력하자\n",
    "***\n"
   ],
   "metadata": {
    "collapsed": false
   }
  },
  {
   "cell_type": "code",
   "execution_count": null,
   "outputs": [],
   "source": [
    "rd = pd.read_excel()\n",
    "x = rd.loc[]\n",
    "y = rd.loc[]"
   ],
   "metadata": {
    "collapsed": false,
    "pycharm": {
     "name": "#%%\n"
    }
   }
  },
  {
   "cell_type": "markdown",
   "source": [
    "## **2.3. Data Split and fitting**\n",
    "> 이전 시간에 했던 datasplit를 다시 복습해봅시다.<br>\n",
    "> 문제 : **trainset의 비율을 70%로 잡고 X_train X_val y_train y_val로 데이터를 나누시오!**\n"
   ],
   "metadata": {
    "collapsed": false
   }
  },
  {
   "cell_type": "code",
   "execution_count": null,
   "outputs": [],
   "source": [],
   "metadata": {
    "collapsed": false,
    "pycharm": {
     "name": "#%%\n"
    }
   }
  },
  {
   "cell_type": "markdown",
   "source": [
    "## **2.4. RandomForest**\n",
    "> 이제 RandomForest의 회귀모델을 만들어볼 차례입니다 <br>\n",
    "> 문제 : **X_train과 y_train을 통해 모델을 RandomForest을 생성하시오**<br>\n",
    "> 문제 : **X_val과 y_val을 통해 모델을 평가하시오 이때의 평가지표는 (MAE, R2, RMSE)를 사용!**<br>\n",
    "> - MAE, R2, RMSE에 대해서는 공부해볼 것!<br>"
   ],
   "metadata": {
    "collapsed": false
   }
  },
  {
   "cell_type": "code",
   "execution_count": null,
   "outputs": [],
   "source": [],
   "metadata": {
    "collapsed": false,
    "pycharm": {
     "name": "#%%\n"
    }
   }
  },
  {
   "cell_type": "markdown",
   "source": [
    "## **2.5. Prediction**\n",
    "> 만들어진 RandomForest 모델을 통해 실제로 본 모델이 얼마나 잘 예측하는지까지 평가를 해보았습니다.<br>\n",
    "> 그렇다면, 모델의 예측값이 어떻게 나타나는지 한번 visualization해보는게 좋겠죠?<br><br>\n",
    "> 위에서 원 데이터를 로드한 rd에 대해서 <br>\n",
    "> 2018.08.09~2018.08.12 까지의 기후데이터와 i-7의 온도데이터를 로드합시다.<br>\n",
    "> 변수명은 원하는대로 진행해주시면 됩니다.<br>\n",
    "> 기후데이터와 앞서 만든 모델을 통해 레일 온도를 예측하여, predict_rail_temp에 저장합시다.<br>\n",
    "> 여기까지 따라하셨다면 아래의 문제를 해결하시오!<br><br>\n",
    "> 문제 : **matplotlib를 통해 실제 i-7값과 예측된 predict_rail_temp를 동시에 나타나도록 코딩하라.**<br>\n",
    "\n"
   ],
   "metadata": {
    "collapsed": false
   }
  },
  {
   "cell_type": "code",
   "execution_count": null,
   "outputs": [],
   "source": [],
   "metadata": {
    "collapsed": false,
    "pycharm": {
     "name": "#%%\n"
    }
   }
  },
  {
   "cell_type": "markdown",
   "source": [
    "## **2.6. Comparison to SVM**\n",
    "> 이전에 만들었던 SVM 회귀 모델과의 성능을 비교해봅시다.<br>\n",
    "> SVM 회귀 모델의 작성하여서 MAE, RMSE, R2_Score를 비교해봅시다.<br>\n",
    "> 문제 : **평가지표들을 이용해서 SVM과 RandomForest 성능을 비교하고 성능의 차이가 나는 이유를 google 등을 이용해 서술하시오.**<br>\n",
    ">(주의 : 이유를 알게 되면 여러분은 나무와 사랑에 빠질 가능성이 있다.)\n",
    ">"
   ],
   "metadata": {
    "collapsed": false
   }
  },
  {
   "cell_type": "code",
   "execution_count": null,
   "outputs": [],
   "source": [],
   "metadata": {
    "collapsed": false,
    "pycharm": {
     "name": "#%%\n"
    }
   }
  },
  {
   "cell_type": "markdown",
   "source": [
    "## **2.7. Data Normalization**\n",
    "> Data Normalization은 일부 모델에서는 필수적입니다.<br>\n",
    "> Sklearn에서는 다양한 Normalization 함수를 제공합니다.<br>\n",
    "> google에 이에 대한 설명을 해주기 때문에 data normalization 또는 데이터 정규화로 검색해서 자세한 내용을 공부해보세요<br>\n",
    "> 문제 : **standardization 과 minmaxscaler를 각각 해보세요**\n",
    "> 문제 : **정규화를 하지 않은 경우와 성능을 비교하시오(성능지표 이용)**"
   ],
   "metadata": {
    "collapsed": false
   }
  },
  {
   "cell_type": "code",
   "execution_count": null,
   "outputs": [],
   "source": [],
   "metadata": {
    "collapsed": false,
    "pycharm": {
     "name": "#%%\n"
    }
   }
  },
  {
   "cell_type": "markdown",
   "source": [
    "## **2.8. Feature generation**\n",
    "> 일부 응용에서는 모델의 성능을 올리기 위해 새로운 Feature를 생성해야만 합니다.<br>\n",
    "> 특히, 현재 Feature만으로 현상을 명확히 설명할 수 없을 경우 필수적입니다.<br>\n",
    "> 기존의 논문 스터디를 통해 우리는 태양의 방사량과 위치가 레일의 온도에 영향을 미치는 것을 알았습니다.<br>\n",
    "> 하지만 현재 Feature에는 이를 반영하기 위한 Feature가 존재하지 않습니다.<br>\n",
    "> 따라서 성능이 높은 모델을 만들기 위해서 새로운 Feature를 생성해야합니다.<br>\n",
    "\n",
    "\n"
   ],
   "metadata": {
    "collapsed": false
   }
  },
  {
   "cell_type": "markdown",
   "source": [
    "### **2.8.1 Feature generation**\n",
    "> TSI는 Total solar irradiation를 의미합니다. <br>\n",
    "> 문제 : **google 검색, 코드 분석 및 논문 스터디를 통해 'TSI','azimuth','altitude'에 대해 정리해오세요(한글파일로 개념, 계산식 정리)**<br>\n",
    "> (azimuth, altitude, TSI에 대한 코드는 feature_preprocessor.py에 있습니다. (azimuth = az, altitude = al)<br>\n",
    "> 문제 : **작성되어 있는 feature_preprocessor.py를 load하여 TSI, azimuth, altitude를 데이터에 추가해보세요.**<br>\n",
    ">(단순 복붙 금지, .py 파일 import 방법 찾아볼것)"
   ],
   "metadata": {
    "collapsed": false
   }
  },
  {
   "cell_type": "code",
   "execution_count": null,
   "outputs": [],
   "source": [],
   "metadata": {
    "collapsed": false,
    "pycharm": {
     "name": "#%%\n"
    }
   }
  },
  {
   "cell_type": "markdown",
   "source": [
    "## **2.9. Improve model performance**\n",
    "> 위에서 생성한 Feature 3개를 추가하여 모델을 학습시키고 성능을 비교해봅시다.<br>\n",
    "> 문제 : **TSI, azimuth, altitude를 기존에 데이터에 추가하여 SVM, RandomForest 모델을 생성해봅시다.**<br>\n",
    "> 문제 : **TSI, azimuth, altitude가 포함된 모델과 그렇지 않은 모델의 성능을 비교해보세요.(총 4가지 모델 비교)**\n"
   ],
   "metadata": {
    "collapsed": false
   }
  },
  {
   "cell_type": "code",
   "execution_count": null,
   "outputs": [],
   "source": [
    "\n"
   ],
   "metadata": {
    "collapsed": false,
    "pycharm": {
     "name": "#%%\n"
    }
   }
  }
 ],
 "metadata": {
  "kernelspec": {
   "display_name": "Python 3",
   "language": "python",
   "name": "python3"
  },
  "language_info": {
   "codemirror_mode": {
    "name": "ipython",
    "version": 2
   },
   "file_extension": ".py",
   "mimetype": "text/x-python",
   "name": "python",
   "nbconvert_exporter": "python",
   "pygments_lexer": "ipython2",
   "version": "2.7.6"
  }
 },
 "nbformat": 4,
 "nbformat_minor": 0
}