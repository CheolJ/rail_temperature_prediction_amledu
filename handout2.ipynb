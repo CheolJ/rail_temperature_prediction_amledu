{
 "cells": [
  {
   "cell_type": "markdown",
   "metadata": {},
   "source": [
    "> Coded by CheolJeongPark: Advcaned Manufacturing Laboratory.<br>\n",
    "> Visit my github [CheolJ Github](https://github.com/CheolJ) <br>\n",
    "> This code is for new lab member who follows the study of rail temperature prediction. <br>\n",
    "> For detail information or cooperation please contact me(**pffiro@gmail.com**) or professor Seong J. Cho (**scho@cnu.ac.kr**)<br>\n",
    "\n",
    "# **2.Handout 2**\n",
    "## **2.1. Introduction**\n",
    "> 지난 chapter에서는 데이터를 간단하게 핸들링하고 함수를 작성 및 사용, 데이터 시각화까지 진행했습니다.\n",
    "> <br>이번 시간에는 Machine-leanring Method를 활용하여 실제로 레일 온도를 예측하는 모델을 생성해봅시다.<br><br>\n",
    "> ***우선 이번 과제를 진행하기 전에 꼭, [Kaggle Intro to machine learning](https://www.kaggle.com/learn/intro-to-machine-learning)을 수강하기 바랍니다.***\n",
    "<br>\n",
    "***\n",
    "<br>\n",
    "\n",
    "## **2.2. Objective**\n",
    "> 본 과제의 목적은 다음과 같습니다.<br>\n",
    "> 1. Supprot Vector Machine, Random Forest 알고리즘 이해\n",
    "> 2. 머신러닝을 활용한 레일 온도 예측 모델 생성\n",
    "> 3. 모델을 통한 레일 온도 예측 모델 개발\n",
    "<br>\n",
    "***\n",
    "<br>\n",
    "\n",
    "## **2.3. Reference**\n",
    "> 본 과제부터는 scikit-learn library를 정말 많이 사용하게 될겁니다.<br>\n",
    "> scikit-learn library는 sklearn으로 로드할 수 있으며, 머신러닝과 관련된 모듈을 대부분 포함합니다.<br>\n",
    "> 코딩을 하면서 모르는 부분들은 google에 검색을 하면서 참고하면 좋을 것 같습니다.\n",
    "> <br>불편한 공부방법일 수도 있지만, kaggle 수강과 검색이라면 충분히 할 수 있습니다!<br>\n",
    "> 읽어볼만한 것들<br>\n",
    "> **[Support Vector Machine](http://jaejunyoo.blogspot.com/2018/01/support-vector-machine-1.html) and [Caltech's Machine Learning Lecture; SVM](https://www.youtube.com/watch?v=eHsErlPJWUU&hd=1)**\n",
    "<br>\n",
    "***\n",
    "<br>\n"
   ]
  },
  {
   "cell_type": "markdown",
   "metadata": {},
   "source": [
    "# **2. EXERCISE**\n",
    "## **2.1. Loading Library**\n",
    "> 이번시간에도 똑같이 library를 로딩합니다.<br>\n",
    "> 필요한 library들은 pandas, matplotlib, sklearn의 svm, randomforest입니다.<br>\n",
    "> support vector machine과 randomforest는 회귀를 사용할 겁니다.<br>\n",
    "> 문제 : **Kaggle과 google의 힘을 빌려 라이브러리를 import 해보세요**"
   ]
  },
  {
   "cell_type": "code",
   "execution_count": null,
   "metadata": {},
   "outputs": [],
   "source": [
    "import pandas as pd\n",
    "import matplotlib.pyplot as plt\n"
   ]
  },
  {
   "cell_type": "markdown",
   "metadata": {},
   "source": [
    "## **2.2. Loading Data File**\n",
    "> library들을 불러왔으면, 파일을 입력해보자!<br>\n",
    "> 이번에는 북쪽 데이터만을 사용할겁니다!<br><br>\n",
    "> **북쪽 레일의 온도를 대표하는 지점은 I-7 지점입니다.(이전 과제의 레일 데이터를 참고하세요)**<br>\n",
    "> **본 예측 모델은 I-7의 온도를 기후데이터만으로 예측하는 것을 목표로 합니다.**<br><br>\n",
    "> 머신러닝 모델을 만들기 위해서는 feature와 target으로 데이터를 나누어야 합니다.<br>\n",
    "> 이를 위해서 다음 문제를 해결해 봅시다.<br>\n",
    "> 문제 : 데이터를 로드하고 feature와 target으로 데이터를 나누자<br>\n",
    ">   - rd에 전체 데이터를 읽어오자\n",
    ">   - loc또는 iloc을 활용하여, x에는 기후데이터를, y에는 target인 i-7값을 입력하자\n",
    "***"
   ]
  },
  {
   "cell_type": "code",
   "execution_count": null,
   "metadata": {},
   "outputs": [],
   "source": [
    "rd = pd.read_excel()\n",
    "x = rd.loc[]\n",
    "y = rd.loc[]\n"
   ]
  },
  {
   "cell_type": "markdown",
   "metadata": {},
   "source": [
    "## **2.3. Data Split and fitting**\n",
    "> Kaggle 수업을 들었다면, sklearn library에 있는 datasplit에 관한 기능을 알고 있을겁니다.<br>\n",
    "> 문제 : **trainset의 비율을 70%로 잡고 X_train X_val y_train y_val로 데이터를 나누시오!**"
   ]
  },
  {
   "cell_type": "code",
   "execution_count": null,
   "metadata": {},
   "outputs": [],
   "source": []
  },
  {
   "cell_type": "markdown",
   "metadata": {},
   "source": [
    "## **2.4. Support Vector Machine**\n",
    "> 이제 SVM의 회귀모델을 만들어볼 차례입니다 <br>\n",
    "> 문제 : **X_train과 y_train을 통해 모델을 SVM을 생성하시오**<br>\n",
    "> 문제 : **X_val과 y_val을 통해 모델을 평가하시오 이때의 평가지표는 (MAE, R2, RMSE)를 사용!**<br>\n",
    "> - MAE, R2, RMSE에 대해서는 공부해볼 것!<br>"
   ]
  },
  {
   "cell_type": "code",
   "execution_count": null,
   "metadata": {},
   "outputs": [],
   "source": []
  },
  {
   "cell_type": "markdown",
   "metadata": {},
   "source": [
    "## **2.5. Prediction**\n",
    "> 만들어진 SVM 모델을 통해 실제로 본 모델이 얼마나 잘 예측하는지까지 평가를 해보았습니다.<br>\n",
    "> 그렇다면, 모델의 예측값이 어떻게 나타나는지 한번 visualization해보는게 좋겠죠?<br><br>\n",
    "> 위에서 원 데이터를 로드한 rd에 대해서 <br>\n",
    "> 2018.08.09~2018.08.12 까지의 기후데이터와 i-7의 온도데이터를 로드합시다.<br>\n",
    "> 변수명은 원하는대로 진행해주시면 됩니다.<br>\n",
    "> 기후데이터와 앞서 만든 모델을 통해 레일 온도를 예측하여, predict_rail_temp에 저장합시다.<br>\n",
    "> 여기까지 따라하셨다면 아래의 문제를 해결하시오!<br><br>\n",
    "> 문제 : **matplotlib를 통해 실제 i-7값과 예측된 predict_rail_temp를 동시에 나타나도록 코딩하라.**<br>"
   ]
  },
  {
   "cell_type": "code",
   "execution_count": null,
   "metadata": {},
   "outputs": [],
   "source": []
  }
 ],
 "metadata": {
  "kernelspec": {
   "display_name": "Python 3",
   "language": "python",
   "name": "python3"
  },
  "language_info": {
   "codemirror_mode": {
    "name": "ipython",
    "version": 3
   },
   "file_extension": ".py",
   "mimetype": "text/x-python",
   "name": "python",
   "nbconvert_exporter": "python",
   "pygments_lexer": "ipython3",
   "version": "3.7.3"
  }
 },
 "nbformat": 4,
 "nbformat_minor": 2
}